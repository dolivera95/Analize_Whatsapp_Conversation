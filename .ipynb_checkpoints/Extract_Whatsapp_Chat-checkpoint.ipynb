{
 "cells": [
  {
   "cell_type": "markdown",
   "id": "d3ad0414",
   "metadata": {},
   "source": [
    "# Importaciones Librerias"
   ]
  },
  {
   "cell_type": "code",
   "execution_count": 1,
   "id": "fbb3b4b3",
   "metadata": {},
   "outputs": [],
   "source": [
    "import pandas as pd\n",
    "import re\n",
    "import regex\n",
    "import emoji\n",
    "from datetime import datetime"
   ]
  },
  {
   "cell_type": "markdown",
   "id": "78f351f0",
   "metadata": {},
   "source": [
    "# Extraer Data"
   ]
  },
  {
   "cell_type": "code",
   "execution_count": 2,
   "id": "bec99a1c",
   "metadata": {},
   "outputs": [],
   "source": [
    "# Busca el patrón para ubicar las fecha y hora de los mensajes\n",
    "def inicia_con_fecha_y_hora(s):\n",
    "    #Ejemplo: '17/3/2022 11:57 p. m. -'\n",
    "    #Ejemplo: '21/2/2021 11:27 a. m. - ... '\n",
    "    patron = '[\\d]{1,2}\\/[\\d]{2}\\/[\\d]{2}[ ][\\d]{1,2}[:][\\d]{2}[ ]{1}[apm. ]{1,} \\-'\n",
    "    resultado = re.match(patron, s)  # Verificar si cada línea del txt hace match con el patrón de fecha y hora\n",
    "    if resultado:\n",
    "        return True\n",
    "    return False"
   ]
  },
  {
   "cell_type": "code",
   "execution_count": 3,
   "id": "89d6b6f9",
   "metadata": {},
   "outputs": [],
   "source": [
    "# Busca el patrón para ubicar el nombre de los usuarios del chat\n",
    "def encontrar_miembros(s):\n",
    "    patrones = [\n",
    "        '([\\wáéíóú]+[ ][\\wáéíóú\\.]+):', # Nombre Inicial Apellido .\n",
    "        '([+][\\d]{2}[ ][\\d]{3}[ ][\\d]{3}[ ][\\d]{3}):', # Número de telefono (Perú)\n",
    "        '([\\wáéíóú]+[ ][\\wáéíóú]+[ ][\\wáéíóú]+):', # Nombre Apellido Apellido\n",
    "        '([\\wáéíóú]+[ ][\\wáéíóú]+):', # Nombre Apellido\n",
    "        '([\\wáéíóú]+):'  # Nombre\n",
    "    ]\n",
    "    #Unifica todos tipos de busquedas regex por medio de un '|'\n",
    "    patron = '|'.join(patrones)\n",
    "    #Realiza el regex busqueda\n",
    "    resultado = re.match(patron, s)\n",
    "    if resultado:\n",
    "        return True\n",
    "    return False"
   ]
  },
  {
   "cell_type": "code",
   "execution_count": 4,
   "id": "b3d580be",
   "metadata": {},
   "outputs": [],
   "source": [
    "# Divide la linea del mensaje en dos partes (una parte será la fecha y hora del mensaje y la otra parte sera el contacto)\n",
    "def obtener_partes(s):\n",
    "    dict_linea = {}\n",
    "    #Divide el mensaje por el caracter '-'\n",
    "    split_linea = s.split(' - ')\n",
    "    #Almacena la primera parte del split que sería la fecha y hora del mensaje\n",
    "    parte_1 = split_linea[0]\n",
    "    # Almacena la segunda parte del split que contendría el contacto\n",
    "    parte_2 = split_linea[1:]\n",
    "    # Divide la primera parte por el ' '\n",
    "    split_fecha_hora = parte_1.split(' ')\n",
    "    #De la primera parte del ' ' obtiene la fecha\n",
    "    fecha = split_fecha_hora[0]\n",
    "    #Obtain the list of the time\n",
    "    #VALIDAR ESTO POR QUE HACE UN IF (Se entiende que siempre tendría)\n",
    "    if len(split_fecha_hora) > 1:\n",
    "        hora = split_fecha_hora[1:]\n",
    "        #Obtain the time\n",
    "        hora = hora[0]\n",
    "    # Obtener el contacto y mensaje\n",
    "    usuario_mensaje = ' '.join(parte_2)\n",
    "    # Utiliza el encontrar_miembros para obtener por regex el nombre del contacto\n",
    "    if encontrar_miembros(usuario_mensaje):\n",
    "        split_mensaje = usuario_mensaje.split(': ')\n",
    "        usuario = split_mensaje[0]\n",
    "        mensaje = split_mensaje[1:]\n",
    "        mensaje = ' '.join(mensaje)\n",
    "    # Si no encuentra el contacto, significa que es una continuación de linea, asi que solo guarda el mensaje\n",
    "    else:\n",
    "        fecha = None\n",
    "        hora = None\n",
    "        usuario = None\n",
    "        mensaje = parte_1.strip()\n",
    "        \n",
    "    # Almacenar en diccionario la información obtenida de la linea del mensaje (fecha, hora, contacto, mensaje)\n",
    "    dict_linea['fecha']  = fecha \n",
    "    dict_linea['hora'] = hora\n",
    "    dict_linea['usuario'] = usuario\n",
    "    dict_linea['mensaje'] = mensaje\n",
    "    return dict_linea"
   ]
  },
  {
   "cell_type": "code",
   "execution_count": 5,
   "id": "419f92e8",
   "metadata": {},
   "outputs": [],
   "source": [
    "# Leer el archivo chat\n",
    "ruta_chat = 'source\\Chat de WhatsApp con Team Reembolso - Valorant.txt'\n",
    "dict_linea = []\n",
    "lista_mensajes = []\n",
    "indice_linea_con_fecha = -1\n",
    "with open(ruta_chat, encoding=\"utf-8\") as archivo:\n",
    "    for linea in archivo:\n",
    "        linea = linea.strip()\n",
    "        # Valida si la linea que se va a revisar contiene fecha y hora (si fuera ese el caso)\n",
    "        if(inicia_con_fecha_y_hora(linea)):\n",
    "            dict_linea = obtener_partes(linea)\n",
    "            lista_mensajes.append([dict_linea['fecha'], dict_linea['hora'], dict_linea['usuario'], dict_linea['mensaje'].strip()])\n",
    "            indice_linea_con_fecha = indice_linea_con_fecha + 1\n",
    "        # Si no contiene la fecha_y_hora significa que es una linea que es continuación de la linea superior a esta\n",
    "        else:\n",
    "            dict_linea = obtener_partes(linea)\n",
    "            # Almacenas el mensaje de la linea sin fecha ni contacto\n",
    "            mensaje = dict_linea['mensaje']\n",
    "            # Llamas a la anterior linea con fecha y se concatena el mensaje guardado a la linea anterior\n",
    "            lista_mensajes[indice_linea_con_fecha][3] = lista_mensajes[indice_linea_con_fecha][3].strip() + \" \"+  mensaje       \n"
   ]
  },
  {
   "cell_type": "code",
   "execution_count": 6,
   "id": "06f68b1d",
   "metadata": {},
   "outputs": [],
   "source": [
    "# Crear Dataframe con la información\n",
    "df_mensajes_extraer = pd.DataFrame(lista_mensajes, columns = ['Fecha', 'Hora', 'Usuario', 'Mensaje'])"
   ]
  },
  {
   "cell_type": "code",
   "execution_count": 7,
   "id": "b254fe12",
   "metadata": {},
   "outputs": [],
   "source": [
    "df_mensajes_extraer['extract_datetime'] = datetime.now()"
   ]
  },
  {
   "cell_type": "code",
   "execution_count": 8,
   "id": "88f6ba3e",
   "metadata": {},
   "outputs": [
    {
     "data": {
      "text/html": [
       "<div>\n",
       "<style scoped>\n",
       "    .dataframe tbody tr th:only-of-type {\n",
       "        vertical-align: middle;\n",
       "    }\n",
       "\n",
       "    .dataframe tbody tr th {\n",
       "        vertical-align: top;\n",
       "    }\n",
       "\n",
       "    .dataframe thead th {\n",
       "        text-align: right;\n",
       "    }\n",
       "</style>\n",
       "<table border=\"1\" class=\"dataframe\">\n",
       "  <thead>\n",
       "    <tr style=\"text-align: right;\">\n",
       "      <th></th>\n",
       "      <th>Fecha</th>\n",
       "      <th>Hora</th>\n",
       "      <th>Usuario</th>\n",
       "      <th>Mensaje</th>\n",
       "      <th>extract_datetime</th>\n",
       "    </tr>\n",
       "  </thead>\n",
       "  <tbody>\n",
       "    <tr>\n",
       "      <th>0</th>\n",
       "      <td>24/08/23</td>\n",
       "      <td>6:15 p. m.</td>\n",
       "      <td>Tania</td>\n",
       "      <td>Me hubiera pasado</td>\n",
       "      <td>2024-07-25 19:48:37.459665</td>\n",
       "    </tr>\n",
       "    <tr>\n",
       "      <th>1</th>\n",
       "      <td>24/08/23</td>\n",
       "      <td>6:15 p. m.</td>\n",
       "      <td>Omar Ramos</td>\n",
       "      <td>XDDD</td>\n",
       "      <td>2024-07-25 19:48:37.459665</td>\n",
       "    </tr>\n",
       "    <tr>\n",
       "      <th>2</th>\n",
       "      <td>24/08/23</td>\n",
       "      <td>6:15 p. m.</td>\n",
       "      <td>Enrique</td>\n",
       "      <td>&lt;Multimedia omitido&gt;</td>\n",
       "      <td>2024-07-25 19:48:37.459665</td>\n",
       "    </tr>\n",
       "    <tr>\n",
       "      <th>3</th>\n",
       "      <td>24/08/23</td>\n",
       "      <td>6:15 p. m.</td>\n",
       "      <td>Enrique</td>\n",
       "      <td>&lt;Multimedia omitido&gt;</td>\n",
       "      <td>2024-07-25 19:48:37.459665</td>\n",
       "    </tr>\n",
       "    <tr>\n",
       "      <th>4</th>\n",
       "      <td>24/08/23</td>\n",
       "      <td>6:16 p. m.</td>\n",
       "      <td>Omar Ramos</td>\n",
       "      <td>Yo prefiero la parrilla</td>\n",
       "      <td>2024-07-25 19:48:37.459665</td>\n",
       "    </tr>\n",
       "  </tbody>\n",
       "</table>\n",
       "</div>"
      ],
      "text/plain": [
       "      Fecha        Hora     Usuario                  Mensaje  \\\n",
       "0  24/08/23  6:15 p. m.       Tania        Me hubiera pasado   \n",
       "1  24/08/23  6:15 p. m.  Omar Ramos                     XDDD   \n",
       "2  24/08/23  6:15 p. m.     Enrique     <Multimedia omitido>   \n",
       "3  24/08/23  6:15 p. m.     Enrique     <Multimedia omitido>   \n",
       "4  24/08/23  6:16 p. m.  Omar Ramos  Yo prefiero la parrilla   \n",
       "\n",
       "            extract_datetime  \n",
       "0 2024-07-25 19:48:37.459665  \n",
       "1 2024-07-25 19:48:37.459665  \n",
       "2 2024-07-25 19:48:37.459665  \n",
       "3 2024-07-25 19:48:37.459665  \n",
       "4 2024-07-25 19:48:37.459665  "
      ]
     },
     "execution_count": 8,
     "metadata": {},
     "output_type": "execute_result"
    }
   ],
   "source": [
    "df_mensajes_extraer.head()"
   ]
  },
  {
   "cell_type": "code",
   "execution_count": 9,
   "id": "e272a5ca",
   "metadata": {},
   "outputs": [],
   "source": [
    "df_mensajes_extraer.to_csv(\"fuente\\Extraer\\mensajes.csv\", index = False ,sep= \"|\")"
   ]
  },
  {
   "cell_type": "markdown",
   "id": "e815a9da",
   "metadata": {},
   "source": [
    "## Transformar Mensajes"
   ]
  },
  {
   "cell_type": "code",
   "execution_count": 10,
   "id": "55fcc80d",
   "metadata": {},
   "outputs": [],
   "source": [
    "df_mensajes_transformar = df_mensajes_extraer.copy()"
   ]
  },
  {
   "cell_type": "code",
   "execution_count": 11,
   "id": "4b8d9138",
   "metadata": {},
   "outputs": [],
   "source": [
    "df_mensajes_transformar = df_mensajes_transformar[\n",
    "    [\n",
    "     'Fecha'\n",
    "    ,'Hora'\n",
    "    ,'Usuario'\n",
    "    ,'Mensaje'   \n",
    "    ]\n",
    "]"
   ]
  },
  {
   "cell_type": "code",
   "execution_count": 12,
   "id": "8aa61bba",
   "metadata": {},
   "outputs": [],
   "source": [
    "df_mensajes_transformar['Hora'] = df_mensajes_transformar['Hora'].str.replace(r'[^0-9a-zA-Z: ]', '', regex=True)"
   ]
  },
  {
   "cell_type": "code",
   "execution_count": 13,
   "id": "1f8ba8b3",
   "metadata": {},
   "outputs": [],
   "source": [
    "df_mensajes_transformar['Hora'] = df_mensajes_transformar['Hora'].str.replace('\\u202f', '', regex=False)"
   ]
  },
  {
   "cell_type": "code",
   "execution_count": 14,
   "id": "8f861a3b",
   "metadata": {},
   "outputs": [],
   "source": [
    "df_mensajes_transformar['Fecha_hora'] = pd.to_datetime(df_mensajes_transformar['Fecha'] \n",
    "                                                       + ' ' \n",
    "                                                       + df_mensajes_transformar['Hora'], format='%d/%m/%y %I:%M%p')"
   ]
  },
  {
   "cell_type": "code",
   "execution_count": 15,
   "id": "4edfafe5",
   "metadata": {},
   "outputs": [],
   "source": [
    "df_mensajes_transformar['transform_datetime'] = datetime.now()"
   ]
  },
  {
   "cell_type": "code",
   "execution_count": 16,
   "id": "de2f3095",
   "metadata": {},
   "outputs": [
    {
     "data": {
      "text/html": [
       "<div>\n",
       "<style scoped>\n",
       "    .dataframe tbody tr th:only-of-type {\n",
       "        vertical-align: middle;\n",
       "    }\n",
       "\n",
       "    .dataframe tbody tr th {\n",
       "        vertical-align: top;\n",
       "    }\n",
       "\n",
       "    .dataframe thead th {\n",
       "        text-align: right;\n",
       "    }\n",
       "</style>\n",
       "<table border=\"1\" class=\"dataframe\">\n",
       "  <thead>\n",
       "    <tr style=\"text-align: right;\">\n",
       "      <th></th>\n",
       "      <th>Fecha</th>\n",
       "      <th>Hora</th>\n",
       "      <th>Usuario</th>\n",
       "      <th>Mensaje</th>\n",
       "      <th>Fecha_hora</th>\n",
       "      <th>transform_datetime</th>\n",
       "    </tr>\n",
       "  </thead>\n",
       "  <tbody>\n",
       "    <tr>\n",
       "      <th>0</th>\n",
       "      <td>24/08/23</td>\n",
       "      <td>6:15pm</td>\n",
       "      <td>Tania</td>\n",
       "      <td>Me hubiera pasado</td>\n",
       "      <td>2023-08-24 18:15:00</td>\n",
       "      <td>2024-07-25 19:48:44.993394</td>\n",
       "    </tr>\n",
       "    <tr>\n",
       "      <th>1</th>\n",
       "      <td>24/08/23</td>\n",
       "      <td>6:15pm</td>\n",
       "      <td>Omar Ramos</td>\n",
       "      <td>XDDD</td>\n",
       "      <td>2023-08-24 18:15:00</td>\n",
       "      <td>2024-07-25 19:48:44.993394</td>\n",
       "    </tr>\n",
       "    <tr>\n",
       "      <th>2</th>\n",
       "      <td>24/08/23</td>\n",
       "      <td>6:15pm</td>\n",
       "      <td>Enrique</td>\n",
       "      <td>&lt;Multimedia omitido&gt;</td>\n",
       "      <td>2023-08-24 18:15:00</td>\n",
       "      <td>2024-07-25 19:48:44.993394</td>\n",
       "    </tr>\n",
       "    <tr>\n",
       "      <th>3</th>\n",
       "      <td>24/08/23</td>\n",
       "      <td>6:15pm</td>\n",
       "      <td>Enrique</td>\n",
       "      <td>&lt;Multimedia omitido&gt;</td>\n",
       "      <td>2023-08-24 18:15:00</td>\n",
       "      <td>2024-07-25 19:48:44.993394</td>\n",
       "    </tr>\n",
       "    <tr>\n",
       "      <th>4</th>\n",
       "      <td>24/08/23</td>\n",
       "      <td>6:16pm</td>\n",
       "      <td>Omar Ramos</td>\n",
       "      <td>Yo prefiero la parrilla</td>\n",
       "      <td>2023-08-24 18:16:00</td>\n",
       "      <td>2024-07-25 19:48:44.993394</td>\n",
       "    </tr>\n",
       "  </tbody>\n",
       "</table>\n",
       "</div>"
      ],
      "text/plain": [
       "      Fecha    Hora     Usuario                  Mensaje          Fecha_hora  \\\n",
       "0  24/08/23  6:15pm       Tania        Me hubiera pasado 2023-08-24 18:15:00   \n",
       "1  24/08/23  6:15pm  Omar Ramos                     XDDD 2023-08-24 18:15:00   \n",
       "2  24/08/23  6:15pm     Enrique     <Multimedia omitido> 2023-08-24 18:15:00   \n",
       "3  24/08/23  6:15pm     Enrique     <Multimedia omitido> 2023-08-24 18:15:00   \n",
       "4  24/08/23  6:16pm  Omar Ramos  Yo prefiero la parrilla 2023-08-24 18:16:00   \n",
       "\n",
       "          transform_datetime  \n",
       "0 2024-07-25 19:48:44.993394  \n",
       "1 2024-07-25 19:48:44.993394  \n",
       "2 2024-07-25 19:48:44.993394  \n",
       "3 2024-07-25 19:48:44.993394  \n",
       "4 2024-07-25 19:48:44.993394  "
      ]
     },
     "execution_count": 16,
     "metadata": {},
     "output_type": "execute_result"
    }
   ],
   "source": [
    "df_mensajes_transformar.head()"
   ]
  },
  {
   "cell_type": "code",
   "execution_count": 17,
   "id": "d0979119",
   "metadata": {},
   "outputs": [],
   "source": [
    "df_mensajes_transformar.to_csv(\"fuente\\\\Transformacion\\\\mensajes.csv\", index = False ,sep= \"|\")"
   ]
  },
  {
   "cell_type": "markdown",
   "id": "84648a69",
   "metadata": {},
   "source": [
    "# Transformar: Obtener listado total de Emojis y Urls"
   ]
  },
  {
   "cell_type": "code",
   "execution_count": 18,
   "id": "3fab6b01",
   "metadata": {},
   "outputs": [],
   "source": [
    "# Obtener una lista de todos los emojis utilizados chat\n",
    "def obtener_emojis(mensaje):\n",
    "    emoji_lista=[]\n",
    "    data = regex.findall(r'\\X', mensaje) \n",
    "    for caracter in data:\n",
    "        #Validate if the character is an emoji in spanish\n",
    "        if any(c in emoji.EMOJI_DATA for c in caracter): \n",
    "            emoji_lista.append(caracter)\n",
    "    return emoji_lista"
   ]
  },
  {
   "cell_type": "code",
   "execution_count": 19,
   "id": "63007eba",
   "metadata": {},
   "outputs": [],
   "source": [
    "# Obtener una lista de todas las urls utilizados en el chat\n",
    "def obtener_urls(mensaje):\n",
    "    urls_lista = []\n",
    "    data = regex.findall(r'http[s]{0,1}[:][\\/]{2}[a-z\\.0-9\\/A-Z?=_&-]{1,}', mensaje)\n",
    "    if len(data) > 0:\n",
    "        for url in data:\n",
    "            urls_lista.append(url)\n",
    "    return urls_lista\n"
   ]
  },
  {
   "cell_type": "code",
   "execution_count": 20,
   "id": "2bd599f0",
   "metadata": {},
   "outputs": [],
   "source": [
    "#Count of sendings emojis\n",
    "lista_emojis = []\n",
    "emojis_del_mensaje = []\n",
    "\n",
    "#Count of sendings urls\n",
    "lista_urls = []\n",
    "urls_del_mensaje = []\n",
    "\n",
    "\n",
    "for index, row in df_mensajes_transformar.iterrows():\n",
    "    # Guardar el listado de emojis DEL MENSAJE\n",
    "    emojis_del_mensaje = obtener_emojis(row.Mensaje)\n",
    "    # Añadir los emojis DEL mensaje en una lista general de emojis\n",
    "    lista_emojis.append(emojis_del_mensaje)\n",
    "    \n",
    "    # Guardar el listado de urls DEL MENSAJE\n",
    "    urls_del_mensaje = obtener_urls(row.Mensaje)\n",
    "    # Añadir los urls del MENSAJE en una lista general de Urls\n",
    "    lista_urls.append(urls_del_mensaje)\n",
    "\n",
    "# Generar Dataframe del listado de emojis\n",
    "df_emojis = pd.DataFrame({'emojis_por_mensaje':lista_emojis})\n",
    "# Generar Dataframe del listado de urls\n",
    "df_urls = pd.DataFrame({'urls_por_mensaje': lista_urls})"
   ]
  },
  {
   "cell_type": "code",
   "execution_count": 21,
   "id": "0674434e",
   "metadata": {},
   "outputs": [],
   "source": [
    "# Agregar en el Dataframe principal una lista de emojis que tiene cada mensaje\n",
    "df_mensajes_emojis = pd.merge(df_mensajes_transformar\n",
    "                              , df_emojis\n",
    "                              , how='left'\n",
    "                              , left_index=True\n",
    "                              , right_index=True)"
   ]
  },
  {
   "cell_type": "code",
   "execution_count": 22,
   "id": "4081d569",
   "metadata": {},
   "outputs": [],
   "source": [
    "# Agregar en el Dataframe principal una lista de urls que tiene cada mensaje\n",
    "df_mensajes_emojis_urls = pd.merge(df_mensajes_emojis\n",
    "                                   , df_urls\n",
    "                                   , how='left'\n",
    "                                   , left_index = True\n",
    "                                   , right_index = True)"
   ]
  },
  {
   "cell_type": "markdown",
   "id": "f8c66d2e",
   "metadata": {},
   "source": [
    "## Dataframe de emojis"
   ]
  },
  {
   "cell_type": "code",
   "execution_count": 23,
   "id": "245ecb84",
   "metadata": {},
   "outputs": [],
   "source": [
    "df_emojis_transformar = df_mensajes_emojis_urls[\n",
    "    df_mensajes_emojis_urls['emojis_por_mensaje'].apply(lambda x: len(x) > 0)\n",
    "]"
   ]
  },
  {
   "cell_type": "code",
   "execution_count": 24,
   "id": "b5b9af96",
   "metadata": {},
   "outputs": [],
   "source": [
    "df_emojis_transformar = df_emojis_transformar[['Fecha', 'Hora', 'Fecha_hora','Usuario', 'emojis_por_mensaje']]"
   ]
  },
  {
   "cell_type": "code",
   "execution_count": 25,
   "id": "59ecc0de",
   "metadata": {},
   "outputs": [],
   "source": [
    "df_emojis_transformar = df_emojis_transformar.explode('emojis_por_mensaje')"
   ]
  },
  {
   "cell_type": "code",
   "execution_count": 26,
   "id": "f7a40994",
   "metadata": {},
   "outputs": [],
   "source": [
    "df_emojis_transformar['transform_datetime'] = datetime.now()"
   ]
  },
  {
   "cell_type": "code",
   "execution_count": 27,
   "id": "8f2f5532",
   "metadata": {},
   "outputs": [
    {
     "data": {
      "text/html": [
       "<div>\n",
       "<style scoped>\n",
       "    .dataframe tbody tr th:only-of-type {\n",
       "        vertical-align: middle;\n",
       "    }\n",
       "\n",
       "    .dataframe tbody tr th {\n",
       "        vertical-align: top;\n",
       "    }\n",
       "\n",
       "    .dataframe thead th {\n",
       "        text-align: right;\n",
       "    }\n",
       "</style>\n",
       "<table border=\"1\" class=\"dataframe\">\n",
       "  <thead>\n",
       "    <tr style=\"text-align: right;\">\n",
       "      <th></th>\n",
       "      <th>Fecha</th>\n",
       "      <th>Hora</th>\n",
       "      <th>Fecha_hora</th>\n",
       "      <th>Usuario</th>\n",
       "      <th>emojis_por_mensaje</th>\n",
       "      <th>transform_datetime</th>\n",
       "    </tr>\n",
       "  </thead>\n",
       "  <tbody>\n",
       "    <tr>\n",
       "      <th>21</th>\n",
       "      <td>24/08/23</td>\n",
       "      <td>6:24pm</td>\n",
       "      <td>2023-08-24 18:24:00</td>\n",
       "      <td>Enrique</td>\n",
       "      <td>😮</td>\n",
       "      <td>2024-07-25 19:49:06.724414</td>\n",
       "    </tr>\n",
       "    <tr>\n",
       "      <th>28</th>\n",
       "      <td>24/08/23</td>\n",
       "      <td>6:24pm</td>\n",
       "      <td>2023-08-24 18:24:00</td>\n",
       "      <td>Enrique</td>\n",
       "      <td>👉🏻</td>\n",
       "      <td>2024-07-25 19:49:06.724414</td>\n",
       "    </tr>\n",
       "    <tr>\n",
       "      <th>28</th>\n",
       "      <td>24/08/23</td>\n",
       "      <td>6:24pm</td>\n",
       "      <td>2023-08-24 18:24:00</td>\n",
       "      <td>Enrique</td>\n",
       "      <td>👈🏻</td>\n",
       "      <td>2024-07-25 19:49:06.724414</td>\n",
       "    </tr>\n",
       "    <tr>\n",
       "      <th>49</th>\n",
       "      <td>24/08/23</td>\n",
       "      <td>7:33pm</td>\n",
       "      <td>2023-08-24 19:33:00</td>\n",
       "      <td>Daniel O.</td>\n",
       "      <td>👉</td>\n",
       "      <td>2024-07-25 19:49:06.724414</td>\n",
       "    </tr>\n",
       "    <tr>\n",
       "      <th>49</th>\n",
       "      <td>24/08/23</td>\n",
       "      <td>7:33pm</td>\n",
       "      <td>2023-08-24 19:33:00</td>\n",
       "      <td>Daniel O.</td>\n",
       "      <td>👈</td>\n",
       "      <td>2024-07-25 19:49:06.724414</td>\n",
       "    </tr>\n",
       "  </tbody>\n",
       "</table>\n",
       "</div>"
      ],
      "text/plain": [
       "       Fecha    Hora          Fecha_hora    Usuario emojis_por_mensaje  \\\n",
       "21  24/08/23  6:24pm 2023-08-24 18:24:00    Enrique                  😮   \n",
       "28  24/08/23  6:24pm 2023-08-24 18:24:00    Enrique                 👉🏻   \n",
       "28  24/08/23  6:24pm 2023-08-24 18:24:00    Enrique                 👈🏻   \n",
       "49  24/08/23  7:33pm 2023-08-24 19:33:00  Daniel O.                  👉   \n",
       "49  24/08/23  7:33pm 2023-08-24 19:33:00  Daniel O.                  👈   \n",
       "\n",
       "           transform_datetime  \n",
       "21 2024-07-25 19:49:06.724414  \n",
       "28 2024-07-25 19:49:06.724414  \n",
       "28 2024-07-25 19:49:06.724414  \n",
       "49 2024-07-25 19:49:06.724414  \n",
       "49 2024-07-25 19:49:06.724414  "
      ]
     },
     "execution_count": 27,
     "metadata": {},
     "output_type": "execute_result"
    }
   ],
   "source": [
    "df_emojis_transformar.head()"
   ]
  },
  {
   "cell_type": "code",
   "execution_count": 28,
   "id": "ec78f623",
   "metadata": {},
   "outputs": [],
   "source": [
    "df_emojis_transformar.to_csv(\"fuente\\\\Transformacion\\\\emojis.csv\", index = False ,sep= \"|\")"
   ]
  },
  {
   "cell_type": "markdown",
   "id": "8b73fd78",
   "metadata": {},
   "source": [
    "## Dataframe de Urls"
   ]
  },
  {
   "cell_type": "code",
   "execution_count": 29,
   "id": "6db10ade",
   "metadata": {},
   "outputs": [],
   "source": [
    "df_con_urls_transformar = df_mensajes_emojis_urls[df_mensajes_emojis_urls['urls_por_mensaje'].apply(lambda x: len(x) > 0)]"
   ]
  },
  {
   "cell_type": "code",
   "execution_count": 30,
   "id": "5d4fbf24",
   "metadata": {},
   "outputs": [],
   "source": [
    "df_con_urls_transformar = df_con_urls_transformar[['Fecha', 'Hora','Fecha_hora' ,'Usuario', 'urls_por_mensaje']]"
   ]
  },
  {
   "cell_type": "code",
   "execution_count": 31,
   "id": "474a3b7a",
   "metadata": {},
   "outputs": [],
   "source": [
    "df_con_urls_transformar = df_con_urls_transformar.explode('urls_por_mensaje')"
   ]
  },
  {
   "cell_type": "code",
   "execution_count": 32,
   "id": "b808796d",
   "metadata": {},
   "outputs": [],
   "source": [
    "df_con_urls_transformar['transform_datetime'] = datetime.now()"
   ]
  },
  {
   "cell_type": "code",
   "execution_count": 33,
   "id": "5f87f775",
   "metadata": {},
   "outputs": [
    {
     "data": {
      "text/html": [
       "<div>\n",
       "<style scoped>\n",
       "    .dataframe tbody tr th:only-of-type {\n",
       "        vertical-align: middle;\n",
       "    }\n",
       "\n",
       "    .dataframe tbody tr th {\n",
       "        vertical-align: top;\n",
       "    }\n",
       "\n",
       "    .dataframe thead th {\n",
       "        text-align: right;\n",
       "    }\n",
       "</style>\n",
       "<table border=\"1\" class=\"dataframe\">\n",
       "  <thead>\n",
       "    <tr style=\"text-align: right;\">\n",
       "      <th></th>\n",
       "      <th>Fecha</th>\n",
       "      <th>Hora</th>\n",
       "      <th>Fecha_hora</th>\n",
       "      <th>Usuario</th>\n",
       "      <th>urls_por_mensaje</th>\n",
       "      <th>transform_datetime</th>\n",
       "    </tr>\n",
       "  </thead>\n",
       "  <tbody>\n",
       "    <tr>\n",
       "      <th>44</th>\n",
       "      <td>24/08/23</td>\n",
       "      <td>7:23pm</td>\n",
       "      <td>2023-08-24 19:23:00</td>\n",
       "      <td>Sebastián Encarnación</td>\n",
       "      <td>https://vm.tiktok.com/ZMjeG2f2Q/</td>\n",
       "      <td>2024-07-25 19:49:13.836639</td>\n",
       "    </tr>\n",
       "    <tr>\n",
       "      <th>137</th>\n",
       "      <td>24/08/23</td>\n",
       "      <td>9:08pm</td>\n",
       "      <td>2023-08-24 21:08:00</td>\n",
       "      <td>Sebastián Encarnación</td>\n",
       "      <td>https://vm.tiktok.com/ZMjenm2o6/</td>\n",
       "      <td>2024-07-25 19:49:13.836639</td>\n",
       "    </tr>\n",
       "    <tr>\n",
       "      <th>174</th>\n",
       "      <td>24/08/23</td>\n",
       "      <td>10:37pm</td>\n",
       "      <td>2023-08-24 22:37:00</td>\n",
       "      <td>Tania</td>\n",
       "      <td>https://vm.tiktok.com/ZMjevAEDd/</td>\n",
       "      <td>2024-07-25 19:49:13.836639</td>\n",
       "    </tr>\n",
       "    <tr>\n",
       "      <th>187</th>\n",
       "      <td>25/08/23</td>\n",
       "      <td>9:17am</td>\n",
       "      <td>2023-08-25 09:17:00</td>\n",
       "      <td>Sebastián Encarnación</td>\n",
       "      <td>https://vm.tiktok.com/ZMjdFjgQp/</td>\n",
       "      <td>2024-07-25 19:49:13.836639</td>\n",
       "    </tr>\n",
       "    <tr>\n",
       "      <th>188</th>\n",
       "      <td>25/08/23</td>\n",
       "      <td>9:22am</td>\n",
       "      <td>2023-08-25 09:22:00</td>\n",
       "      <td>Sebastián Encarnación</td>\n",
       "      <td>https://vm.tiktok.com/ZMjdF8c4b/</td>\n",
       "      <td>2024-07-25 19:49:13.836639</td>\n",
       "    </tr>\n",
       "  </tbody>\n",
       "</table>\n",
       "</div>"
      ],
      "text/plain": [
       "        Fecha     Hora          Fecha_hora                Usuario  \\\n",
       "44   24/08/23   7:23pm 2023-08-24 19:23:00  Sebastián Encarnación   \n",
       "137  24/08/23   9:08pm 2023-08-24 21:08:00  Sebastián Encarnación   \n",
       "174  24/08/23  10:37pm 2023-08-24 22:37:00                  Tania   \n",
       "187  25/08/23   9:17am 2023-08-25 09:17:00  Sebastián Encarnación   \n",
       "188  25/08/23   9:22am 2023-08-25 09:22:00  Sebastián Encarnación   \n",
       "\n",
       "                     urls_por_mensaje         transform_datetime  \n",
       "44   https://vm.tiktok.com/ZMjeG2f2Q/ 2024-07-25 19:49:13.836639  \n",
       "137  https://vm.tiktok.com/ZMjenm2o6/ 2024-07-25 19:49:13.836639  \n",
       "174  https://vm.tiktok.com/ZMjevAEDd/ 2024-07-25 19:49:13.836639  \n",
       "187  https://vm.tiktok.com/ZMjdFjgQp/ 2024-07-25 19:49:13.836639  \n",
       "188  https://vm.tiktok.com/ZMjdF8c4b/ 2024-07-25 19:49:13.836639  "
      ]
     },
     "execution_count": 33,
     "metadata": {},
     "output_type": "execute_result"
    }
   ],
   "source": [
    "df_con_urls_transformar.head()"
   ]
  },
  {
   "cell_type": "code",
   "execution_count": 34,
   "id": "8cd0f603",
   "metadata": {
    "scrolled": true
   },
   "outputs": [],
   "source": [
    "df_con_urls_transformar.to_csv(\"fuente\\\\Transformacion\\\\urls.csv\", index = False ,sep= \"|\")"
   ]
  },
  {
   "cell_type": "markdown",
   "id": "c0a969cb",
   "metadata": {},
   "source": [
    "## Dataframe de Mensaje_Omitido"
   ]
  },
  {
   "cell_type": "code",
   "execution_count": 35,
   "id": "0965c4d5",
   "metadata": {},
   "outputs": [],
   "source": [
    "df_mensaje_omitido_transformar = df_mensajes_emojis_urls[df_mensajes_emojis_urls['Mensaje']=='<Multimedia omitido>']"
   ]
  },
  {
   "cell_type": "code",
   "execution_count": 36,
   "id": "33179924",
   "metadata": {},
   "outputs": [],
   "source": [
    "df_mensaje_omitido_transformar = df_mensaje_omitido_transformar[['Fecha', 'Hora', 'Fecha_hora', 'Usuario','Mensaje']]"
   ]
  },
  {
   "cell_type": "code",
   "execution_count": 37,
   "id": "a1e8023c",
   "metadata": {},
   "outputs": [],
   "source": [
    "df_mensaje_omitido_transformar['transform_datetime'] = datetime.now()"
   ]
  },
  {
   "cell_type": "code",
   "execution_count": 38,
   "id": "a24224c5",
   "metadata": {},
   "outputs": [
    {
     "data": {
      "text/html": [
       "<div>\n",
       "<style scoped>\n",
       "    .dataframe tbody tr th:only-of-type {\n",
       "        vertical-align: middle;\n",
       "    }\n",
       "\n",
       "    .dataframe tbody tr th {\n",
       "        vertical-align: top;\n",
       "    }\n",
       "\n",
       "    .dataframe thead th {\n",
       "        text-align: right;\n",
       "    }\n",
       "</style>\n",
       "<table border=\"1\" class=\"dataframe\">\n",
       "  <thead>\n",
       "    <tr style=\"text-align: right;\">\n",
       "      <th></th>\n",
       "      <th>Fecha</th>\n",
       "      <th>Hora</th>\n",
       "      <th>Fecha_hora</th>\n",
       "      <th>Usuario</th>\n",
       "      <th>Mensaje</th>\n",
       "      <th>transform_datetime</th>\n",
       "    </tr>\n",
       "  </thead>\n",
       "  <tbody>\n",
       "    <tr>\n",
       "      <th>2</th>\n",
       "      <td>24/08/23</td>\n",
       "      <td>6:15pm</td>\n",
       "      <td>2023-08-24 18:15:00</td>\n",
       "      <td>Enrique</td>\n",
       "      <td>&lt;Multimedia omitido&gt;</td>\n",
       "      <td>2024-07-25 19:49:17.229180</td>\n",
       "    </tr>\n",
       "    <tr>\n",
       "      <th>3</th>\n",
       "      <td>24/08/23</td>\n",
       "      <td>6:15pm</td>\n",
       "      <td>2023-08-24 18:15:00</td>\n",
       "      <td>Enrique</td>\n",
       "      <td>&lt;Multimedia omitido&gt;</td>\n",
       "      <td>2024-07-25 19:49:17.229180</td>\n",
       "    </tr>\n",
       "    <tr>\n",
       "      <th>5</th>\n",
       "      <td>24/08/23</td>\n",
       "      <td>6:16pm</td>\n",
       "      <td>2023-08-24 18:16:00</td>\n",
       "      <td>Enrique</td>\n",
       "      <td>&lt;Multimedia omitido&gt;</td>\n",
       "      <td>2024-07-25 19:49:17.229180</td>\n",
       "    </tr>\n",
       "    <tr>\n",
       "      <th>8</th>\n",
       "      <td>24/08/23</td>\n",
       "      <td>6:18pm</td>\n",
       "      <td>2023-08-24 18:18:00</td>\n",
       "      <td>Enrique</td>\n",
       "      <td>&lt;Multimedia omitido&gt;</td>\n",
       "      <td>2024-07-25 19:49:17.229180</td>\n",
       "    </tr>\n",
       "    <tr>\n",
       "      <th>15</th>\n",
       "      <td>24/08/23</td>\n",
       "      <td>6:23pm</td>\n",
       "      <td>2023-08-24 18:23:00</td>\n",
       "      <td>Luis Lucho Centria</td>\n",
       "      <td>&lt;Multimedia omitido&gt;</td>\n",
       "      <td>2024-07-25 19:49:17.229180</td>\n",
       "    </tr>\n",
       "  </tbody>\n",
       "</table>\n",
       "</div>"
      ],
      "text/plain": [
       "       Fecha    Hora          Fecha_hora             Usuario  \\\n",
       "2   24/08/23  6:15pm 2023-08-24 18:15:00             Enrique   \n",
       "3   24/08/23  6:15pm 2023-08-24 18:15:00             Enrique   \n",
       "5   24/08/23  6:16pm 2023-08-24 18:16:00             Enrique   \n",
       "8   24/08/23  6:18pm 2023-08-24 18:18:00             Enrique   \n",
       "15  24/08/23  6:23pm 2023-08-24 18:23:00  Luis Lucho Centria   \n",
       "\n",
       "                 Mensaje         transform_datetime  \n",
       "2   <Multimedia omitido> 2024-07-25 19:49:17.229180  \n",
       "3   <Multimedia omitido> 2024-07-25 19:49:17.229180  \n",
       "5   <Multimedia omitido> 2024-07-25 19:49:17.229180  \n",
       "8   <Multimedia omitido> 2024-07-25 19:49:17.229180  \n",
       "15  <Multimedia omitido> 2024-07-25 19:49:17.229180  "
      ]
     },
     "execution_count": 38,
     "metadata": {},
     "output_type": "execute_result"
    }
   ],
   "source": [
    "df_mensaje_omitido_transformar.head()"
   ]
  },
  {
   "cell_type": "code",
   "execution_count": 39,
   "id": "5fb6011d",
   "metadata": {},
   "outputs": [],
   "source": [
    "df_mensaje_omitido_transformar.to_csv(\"fuente\\\\Transformacion\\\\mensaje_omitido.csv\", index = False ,sep= \"|\")"
   ]
  },
  {
   "cell_type": "markdown",
   "id": "94027bf0",
   "metadata": {},
   "source": [
    "# Exportar"
   ]
  },
  {
   "cell_type": "code",
   "execution_count": 40,
   "id": "3c4f27d2",
   "metadata": {},
   "outputs": [],
   "source": [
    "df_mensajes_transformar.to_csv(\"fuente\\\\Cargar\\\\mensajes.csv\", index = False ,sep= \"|\")"
   ]
  },
  {
   "cell_type": "code",
   "execution_count": 41,
   "id": "76a906ca",
   "metadata": {},
   "outputs": [],
   "source": [
    "df_emojis_transformar.to_csv(\"fuente\\\\Cargar\\\\emojis.csv\", index = False ,sep= \"|\")"
   ]
  },
  {
   "cell_type": "code",
   "execution_count": 42,
   "id": "1b1f04a6",
   "metadata": {},
   "outputs": [],
   "source": [
    "df_con_urls_transformar.to_csv(\"fuente\\\\Cargar\\\\urls.csv\", index = False ,sep= \"|\")"
   ]
  },
  {
   "cell_type": "code",
   "execution_count": 43,
   "id": "eb189c09",
   "metadata": {},
   "outputs": [],
   "source": [
    "df_mensaje_omitido_transformar.to_csv(\"fuente\\\\Cargar\\\\mensaje_omitido.csv\", index = False ,sep= \"|\")"
   ]
  },
  {
   "cell_type": "code",
   "execution_count": null,
   "id": "cbcc04c8",
   "metadata": {},
   "outputs": [],
   "source": []
  }
 ],
 "metadata": {
  "kernelspec": {
   "display_name": "Python 3 (ipykernel)",
   "language": "python",
   "name": "python3"
  },
  "language_info": {
   "codemirror_mode": {
    "name": "ipython",
    "version": 3
   },
   "file_extension": ".py",
   "mimetype": "text/x-python",
   "name": "python",
   "nbconvert_exporter": "python",
   "pygments_lexer": "ipython3",
   "version": "3.11.5"
  }
 },
 "nbformat": 4,
 "nbformat_minor": 5
}
